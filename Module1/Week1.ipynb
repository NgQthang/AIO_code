{
 "cells": [
  {
   "cell_type": "code",
   "execution_count": 1,
   "metadata": {},
   "outputs": [
    {
     "name": "stdout",
     "output_type": "stream",
     "text": [
      "Precision =  0.6666666666666666\n",
      "Recall =  0.6666666666666666\n",
      "F1-score =  0.6666666666666666\n"
     ]
    }
   ],
   "source": [
    "#function F1-score\n",
    "def exercise1(tp, fp, fn):\n",
    "    if type(tp) !=  int:\n",
    "        print(\"tp must be int\")\n",
    "        return\n",
    "    if type(fp) !=  int:\n",
    "        print(\"tp must be int\")\n",
    "        return\n",
    "    if type(fn) !=  int:\n",
    "        print(\"tp must be int\")\n",
    "        return\n",
    "    if (tp <= 0) or (fp <= 0) or (fn <= 0):\n",
    "        print(\"tp and fp and fn must be greater than zero\")\n",
    "        return\n",
    "    Precision = tp / (tp + fp)\n",
    "    Recall = tp / (tp + fn)\n",
    "    F1_score = 2 * (Precision * Recall) / (Precision + Recall)\n",
    "    print(\"Precision = \", Precision)\n",
    "    print(\"Recall = \", Recall)\n",
    "    print(\"F1-score = \", F1_score)\n",
    "    \n",
    "\n",
    "exercise1(2, 1, 1)\n"
   ]
  },
  {
   "cell_type": "code",
   "execution_count": null,
   "metadata": {},
   "outputs": [],
   "source": [
    "#activation function\n"
   ]
  },
  {
   "cell_type": "code",
   "execution_count": 7,
   "metadata": {},
   "outputs": [
    {
     "name": "stdout",
     "output_type": "stream",
     "text": [
      "relu: f(3.0) = 3.0\n"
     ]
    }
   ],
   "source": [
    "import math\n",
    "def is_number(s):\n",
    "    try:\n",
    "        float(s)\n",
    "        return True\n",
    "    except ValueError:\n",
    "        return False\n",
    "    \n",
    "\n",
    "def activation_function(x, activation_name):\n",
    "    if not is_number(x):\n",
    "        print('x must be a number')\n",
    "        return\n",
    "    x = float(x)\n",
    "    if activation_name not in ['sigmoid', 'relu', 'elu']:\n",
    "        print(f'{activation_name} is not supported')\n",
    "        return\n",
    "    \n",
    "    if activation_name == 'sigmoid':\n",
    "        result = 1 / (1 + math.exp(-x))\n",
    "    elif activation_name == 'relu':\n",
    "        if x <= 0:\n",
    "            result = 0\n",
    "        else:\n",
    "            result = x\n",
    "    elif activation_name == 'elu':\n",
    "        a = 0.01\n",
    "        if x <= 0:\n",
    "            result = a * (math.exp(x) - 1)\n",
    "        else:\n",
    "            result = x\n",
    "    \n",
    "    print(f'{activation_name}: f({x}) = {result}')\n",
    "\n",
    "\n",
    "activation_function(3, 'relu')"
   ]
  },
  {
   "cell_type": "code",
   "execution_count": 13,
   "metadata": {},
   "outputs": [
    {
     "name": "stdout",
     "output_type": "stream",
     "text": [
      "Tên hàm mất mát: RMSE, mẫu: 0, dự đoán: 6.492483675205881, mục tiêu: 2.6438073144546914, mất mát: 14.812309729805024\n",
      "Tên hàm mất mát: RMSE, mẫu: 1, dự đoán: 1.9180649085739487, mục tiêu: 4.13744378272683, mất mát: 4.925642587036112\n",
      "Tên hàm mất mát: RMSE, mẫu: 2, dự đoán: 4.555200163545257, mục tiêu: 6.923669621216472, mất mát: 5.609647571921383\n",
      "Tên hàm mất mát: RMSE, mẫu: 3, dự đoán: 2.9315411289822757, mục tiêu: 4.878147973599443, mất mát: 3.789278207510405\n",
      "Tên hàm mất mát: RMSE, mẫu: 4, dự đoán: 2.7746909675876505, mục tiêu: 0.9094154425945478, mất mát: 3.4792527841382954\n",
      "RMSE: 2.5540607228651093\n"
     ]
    }
   ],
   "source": [
    "import random\n",
    "import math\n",
    "\n",
    "def calc_ae(y, y_hat):\n",
    "    return abs(y - y_hat)\n",
    "\n",
    "def calc_se(y, y_hat):\n",
    "    return (y - y_hat) ** 2\n",
    "\n",
    "def exercise3():\n",
    "    num_samples = input('Nhập số lượng mẫu (số nguyên) được tạo ra: ')\n",
    "    if not num_samples.isnumeric():\n",
    "        print(\"Số lượng mẫu phải là số nguyên\")\n",
    "        return\n",
    "    loss_name = input('Nhập tên của hàm mất mát: ')\n",
    "\n",
    "    final_loss = 0\n",
    "    num_samples = int(num_samples)\n",
    "    for i in range(num_samples):\n",
    "        pred_sample = random.uniform(0,10)\n",
    "        target_sample = random.uniform(0,10)\n",
    "\n",
    "        if loss_name == 'MAE':\n",
    "            loss = calc_ae(pred_sample, target_sample)\n",
    "        elif loss_name == 'MSE' or loss_name == 'RMSE':\n",
    "            loss = calc_se(pred_sample, target_sample)\n",
    "\n",
    "        final_loss += loss\n",
    "        print(f'Tên hàm mất mát: {loss_name}, mẫu: {i}, dự đoán: {pred_sample}, mục tiêu: {target_sample}, mất mát: {loss}')\n",
    "\n",
    "    final_loss /= num_samples\n",
    "    if loss_name == 'RMSE':\n",
    "        final_loss = math.sqrt(final_loss)\n",
    "    print(f'{loss_name}: {final_loss}')\n",
    "\n",
    "exercise3()"
   ]
  },
  {
   "cell_type": "code",
   "execution_count": 9,
   "metadata": {},
   "outputs": [
    {
     "data": {
      "text/plain": [
       "0.001592652393160744"
      ]
     },
     "execution_count": 9,
     "metadata": {},
     "output_type": "execute_result"
    }
   ],
   "source": [
    "def factorial(k):\n",
    "    if k == 0 or k == 1:\n",
    "        return 1\n",
    "    else:\n",
    "        return k * factorial(k - 1)\n",
    "    \n",
    "\n",
    "def approx_sin(x, n):\n",
    "    result = 0\n",
    "    for i in range(n):\n",
    "        term = ((-1) ** i) * (x ** (2 * i + 1)) / factorial(2 * i + 1)\n",
    "        result += term\n",
    "    return result\n",
    "\n",
    "\n",
    "def approx_cos(x, n):\n",
    "    result = 0\n",
    "    for i in range(n):\n",
    "        term = ((-1) ** i) * (x ** (2 * i)) / factorial(2 * i)\n",
    "        result += term\n",
    "    return result\n",
    "\n",
    "\n",
    "def approx_sinh(x, n):\n",
    "    result = 0\n",
    "    for i in range(n):\n",
    "        term = (x ** (2 * i + 1)) / factorial(2 * i + 1)\n",
    "        result += term\n",
    "    return result\n",
    "\n",
    "\n",
    "def approx_cosh(x, n):\n",
    "    result = 0\n",
    "    for i in range(n):\n",
    "        term = (x ** (2 * i)) / factorial(2 * i)\n",
    "        result += term\n",
    "    return result\n",
    "\n",
    "approx_sin( x =3.14 , n =10)"
   ]
  },
  {
   "cell_type": "code",
   "execution_count": 11,
   "metadata": {},
   "outputs": [
    {
     "data": {
      "text/plain": [
       "0.025031328369998107"
      ]
     },
     "execution_count": 11,
     "metadata": {},
     "output_type": "execute_result"
    }
   ],
   "source": [
    "def md_nre_single_sample(y, y_hat, n, p):\n",
    "    y_root = y ** (1 / n)\n",
    "    y_hat_root = y_hat ** (1 / n)\n",
    "    difference = abs(y_root - y_hat_root)\n",
    "    loss = difference ** p\n",
    "    return loss\n",
    "\n",
    "md_nre_single_sample ( y =100 , y_hat =99.5 , n =2 , p =1)"
   ]
  }
 ],
 "metadata": {
  "kernelspec": {
   "display_name": "Python 3",
   "language": "python",
   "name": "python3"
  },
  "language_info": {
   "codemirror_mode": {
    "name": "ipython",
    "version": 3
   },
   "file_extension": ".py",
   "mimetype": "text/x-python",
   "name": "python",
   "nbconvert_exporter": "python",
   "pygments_lexer": "ipython3",
   "version": "3.9.13"
  }
 },
 "nbformat": 4,
 "nbformat_minor": 2
}

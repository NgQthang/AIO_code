{
 "cells": [
  {
   "cell_type": "code",
   "execution_count": 1,
   "metadata": {},
   "outputs": [
    {
     "name": "stdout",
     "output_type": "stream",
     "text": [
      "[5, 5, 5, 5, 10, 12, 33, 33]\n"
     ]
    }
   ],
   "source": [
    "from collections import deque\n",
    "\n",
    "def sliding_window_maximum(num_list, k):\n",
    "    if not num_list or k <= 0:\n",
    "        return []\n",
    "    \n",
    "    deque_window = deque()\n",
    "    max_list = []\n",
    "\n",
    "    for i in range(len(num_list)):\n",
    "        while deque_window and deque_window[0] <= i - k:\n",
    "            deque_window.popleft()\n",
    "        \n",
    "        while deque_window and num_list[deque_window[-1]] <= num_list[i]:\n",
    "            deque_window.pop()\n",
    "        \n",
    "        deque_window.append(i)\n",
    "        \n",
    "        if i >= k - 1:\n",
    "            max_list.append(num_list[deque_window[0]])\n",
    "    \n",
    "    return max_list\n",
    "\n",
    "num_list = [3, 4, 5, 1, -44 , 5 ,10, 12 ,33, 1]\n",
    "k = 3\n",
    "print(sliding_window_maximum(num_list, k))\n"
   ]
  },
  {
   "cell_type": "code",
   "execution_count": 2,
   "metadata": {},
   "outputs": [
    {
     "name": "stdout",
     "output_type": "stream",
     "text": [
      "{'h': 1, 'a': 1, 'p': 2, 'i': 1, 'n': 1, 'e': 1, 's': 2}\n",
      "{'s': 2, 'm': 1, 'i': 1, 'l': 1, 'e': 1}\n"
     ]
    }
   ],
   "source": [
    "def count_chars(string):\n",
    "    char_count = {}\n",
    "    for char in string:\n",
    "        if char.isalpha():\n",
    "            char = char.lower()\n",
    "            if char in char_count:\n",
    "                char_count[char] += 1\n",
    "            else:\n",
    "                char_count[char] = 1\n",
    "    return char_count\n",
    "\n",
    "string = 'Happiness'\n",
    "print(count_chars(string))\n",
    "\n",
    "string = 'smiles'\n",
    "print(count_chars(string))\n"
   ]
  },
  {
   "cell_type": "code",
   "execution_count": 7,
   "metadata": {},
   "outputs": [
    {
     "name": "stdout",
     "output_type": "stream",
     "text": [
      "{'he': 1, 'who': 3, 'conquers': 1, 'himself': 1, 'is': 3, 'the': 5, 'mightiest': 1, 'warrior': 1, 'try': 2, 'not': 1, 'to': 3, 'become': 2, 'a': 7, 'man': 6, 'of': 4, 'success': 3, 'but': 1, 'rather': 1, 'value': 1, 'one': 4, 'with': 4, 'courage': 1, 'makes': 1, 'majority': 1, 'secret': 1, 'in': 4, 'life': 2, 'for': 3, 'be': 1, 'ready': 1, 'his': 2, 'opportunity': 1, 'when': 2, 'it': 2, 'comes': 2, 'successful': 2, 'will': 2, 'profit': 1, 'from': 1, 'mistakes': 1, 'and': 1, 'again': 1, 'different': 1, 'way': 1, 'can': 3, 'lay': 1, 'firm': 1, 'foundation': 1, 'bricks': 1, 'others': 1, 'have': 1, 'thrown': 1, 'at': 1, 'him': 1, 'usually': 1, 'those': 1, 'are': 1, 'too': 1, 'busy': 1, 'looking': 1, 'we': 3, 'cannot': 1, 'solve': 1, 'problems': 1, 'kind': 1, 'thinking': 1, 'employed': 1, 'came': 1, 'up': 1, 'them': 1, 'just': 2, 'small': 1, 'positive': 1, 'thought': 1, 'morning': 1, 'change': 1, 'your': 1, 'whole': 1, 'day': 1, 'you': 3, 'get': 2, 'everything': 1, 'want': 2, 'if': 1, 'help': 1, 'enough': 1, 'other': 1, 'people': 1, 'what': 1, 'they': 1}\n"
     ]
    }
   ],
   "source": [
    "def word_count(file_path):\n",
    "    word_count_dict = {}\n",
    "    \n",
    "    with open(file_path, 'r') as file:\n",
    "        for line in file:\n",
    "            words = line.lower().split()\n",
    "            for word in words:\n",
    "                # Loại bỏ các ký tự không phải chữ cái khỏi từ\n",
    "                clean_word = ''.join(filter(str.isalpha, word))\n",
    "                if clean_word:\n",
    "                    if clean_word in word_count_dict:\n",
    "                        word_count_dict[clean_word] += 1\n",
    "                    else:\n",
    "                        word_count_dict[clean_word] = 1\n",
    "    \n",
    "    return word_count_dict\n",
    "\n",
    "# Đường dẫn đến file tải về\n",
    "file_path = r'C:\\Users\\NCPC\\Downloads\\P1_data.txt'\n",
    "\n",
    "# Gọi hàm và in kết quả\n",
    "result = word_count(file_path)\n",
    "print(result)\n",
    "\n"
   ]
  },
  {
   "cell_type": "code",
   "execution_count": 4,
   "metadata": {},
   "outputs": [
    {
     "name": "stdout",
     "output_type": "stream",
     "text": [
      "3\n"
     ]
    }
   ],
   "source": [
    "def levenshtein_distance(s1, s2):\n",
    "    m, n = len(s1), len(s2)\n",
    "    dp = [[0] * (n + 1) for _ in range(m + 1)]\n",
    "    \n",
    "    for i in range(m + 1):\n",
    "        dp[i][0] = i\n",
    "    for j in range(n + 1):\n",
    "        dp[0][j] = j\n",
    "    \n",
    "    for i in range(1, m + 1):\n",
    "        for j in range(1, n + 1):\n",
    "            if s1[i - 1] == s2[j - 1]:\n",
    "                cost = 0\n",
    "            else:\n",
    "                cost = 1\n",
    "            dp[i][j] = min(dp[i - 1][j] + 1,        # Deletion\n",
    "                           dp[i][j - 1] + 1,        # Insertion\n",
    "                           dp[i - 1][j - 1] + cost) # Substitution\n",
    "\n",
    "    return dp[m][n]\n",
    "\n",
    "s1 = \"kitten\"\n",
    "s2 = \"sitting\"\n",
    "print(levenshtein_distance(s1, s2))\n"
   ]
  }
 ],
 "metadata": {
  "kernelspec": {
   "display_name": "Python 3",
   "language": "python",
   "name": "python3"
  },
  "language_info": {
   "codemirror_mode": {
    "name": "ipython",
    "version": 3
   },
   "file_extension": ".py",
   "mimetype": "text/x-python",
   "name": "python",
   "nbconvert_exporter": "python",
   "pygments_lexer": "ipython3",
   "version": "3.9.13"
  }
 },
 "nbformat": 4,
 "nbformat_minor": 2
}
